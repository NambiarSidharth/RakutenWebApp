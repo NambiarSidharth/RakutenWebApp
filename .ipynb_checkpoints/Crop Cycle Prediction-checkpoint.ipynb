{
 "cells": [
  {
   "cell_type": "code",
   "execution_count": 71,
   "metadata": {},
   "outputs": [],
   "source": [
    "import math\n",
    "from sklearn.cross_validation import train_test_split\n",
    "from sklearn.metrics import accuracy_score, average_precision_score, recall_score\n",
    "from sklearn.metrics.pairwise import cosine_similarity\n",
    "import seaborn as sns\n",
    "import matplotlib.pyplot as plt"
   ]
  },
  {
   "cell_type": "code",
   "execution_count": 72,
   "metadata": {},
   "outputs": [],
   "source": [
    "import pandas as pd\n",
    "import ast"
   ]
  },
  {
   "cell_type": "code",
   "execution_count": 3,
   "metadata": {},
   "outputs": [],
   "source": [
    "df = pd.read_csv('Crop Cycles.csv')"
   ]
  },
  {
   "cell_type": "code",
   "execution_count": 4,
   "metadata": {},
   "outputs": [],
   "source": [
    "def get_state(state, df=df):\n",
    "    for idx, row in df.iterrows():\n",
    "        if row['State'].lower() == state:\n",
    "            try:\n",
    "                return ast.literal_eval(row['Crops'])\n",
    "            except Exception as e:\n",
    "                return row['Crops']\n",
    "    return 0"
   ]
  },
  {
   "cell_type": "code",
   "execution_count": 5,
   "metadata": {},
   "outputs": [],
   "source": [
    "from itertools import permutations, combinations"
   ]
  },
  {
   "cell_type": "code",
   "execution_count": 63,
   "metadata": {},
   "outputs": [
    {
     "name": "stdout",
     "output_type": "stream",
     "text": [
      "['urud', 'arhar', 'rice', 'paddy']\n"
     ]
    }
   ],
   "source": [
    "crop_array = get_state(state='kerala')\n",
    "print crop_array"
   ]
  },
  {
   "cell_type": "code",
   "execution_count": 64,
   "metadata": {},
   "outputs": [],
   "source": [
    "comb = combinations(crop_array, 3)"
   ]
  },
  {
   "cell_type": "code",
   "execution_count": 65,
   "metadata": {},
   "outputs": [],
   "source": [
    "import random"
   ]
  },
  {
   "cell_type": "code",
   "execution_count": 66,
   "metadata": {},
   "outputs": [],
   "source": [
    "def markets(crops):\n",
    "    \n",
    "    probas = [float(random.uniform(0,1)) for x in range(len(crops))]\n",
    "    values = [int(random.randint(1,5))*1000 for x in range(len(crops))]\n",
    "    \n",
    "    print (\"Crop values : \",values)\n",
    "    \n",
    "    fin_val = [int(probas[x]*values[x]) for x in range(len(crops))]\n",
    "    for item in range(len(crops)):\n",
    "        print crops[item],\":\",fin_val[item]\n",
    "    \n",
    "    print(type(fin_val))\n",
    "    return fin_val     \n",
    "        "
   ]
  },
  {
   "cell_type": "code",
   "execution_count": 67,
   "metadata": {},
   "outputs": [
    {
     "name": "stdout",
     "output_type": "stream",
     "text": [
      "('Crop values : ', [2000, 3000, 5000, 3000])\n",
      "urud : 1613\n",
      "arhar : 1567\n",
      "rice : 4549\n",
      "paddy : 2440\n",
      "<type 'list'>\n"
     ]
    }
   ],
   "source": [
    "market_value = markets(crop_array)"
   ]
  },
  {
   "cell_type": "code",
   "execution_count": 68,
   "metadata": {},
   "outputs": [],
   "source": [
    "def maximal(cycle, crops, market_value):\n",
    "    \n",
    "    curr_max = 0\n",
    "    maximal = []\n",
    "    crop_,crop_names = [],[]\n",
    "    for i in range(len(market_value)):\n",
    "        try:\n",
    "            for j in range(i,cycle+i):\n",
    "                curr_max += market_value[j]\n",
    "            crop_ = [crops[x] for x in range(i,cycle+i)]\n",
    "            maximal.append([curr_max, crop_])\n",
    "            curr_max = 0\n",
    "        except Exception as e:\n",
    "            pass\n",
    "\n",
    "    return max(sorted(maximal))\n",
    "\n",
    "            "
   ]
  },
  {
   "cell_type": "code",
   "execution_count": 70,
   "metadata": {},
   "outputs": [
    {
     "data": {
      "text/plain": [
       "[6989, ['rice', 'paddy']]"
      ]
     },
     "execution_count": 70,
     "metadata": {},
     "output_type": "execute_result"
    }
   ],
   "source": [
    "maximal(cycle=2, crops=crop_array, market_value=market_value)"
   ]
  },
  {
   "cell_type": "code",
   "execution_count": null,
   "metadata": {},
   "outputs": [],
   "source": []
  }
 ],
 "metadata": {
  "kernelspec": {
   "display_name": "Python 2",
   "language": "python",
   "name": "python2"
  },
  "language_info": {
   "codemirror_mode": {
    "name": "ipython",
    "version": 2
   },
   "file_extension": ".py",
   "mimetype": "text/x-python",
   "name": "python",
   "nbconvert_exporter": "python",
   "pygments_lexer": "ipython2",
   "version": "2.7.15rc1"
  }
 },
 "nbformat": 4,
 "nbformat_minor": 2
}
