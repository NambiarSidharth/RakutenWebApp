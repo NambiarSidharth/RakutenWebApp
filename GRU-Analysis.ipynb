{
  "nbformat": 4,
  "nbformat_minor": 0,
  "metadata": {
    "colab": {
      "name": "Untitled4.ipynb",
      "provenance": [],
      "collapsed_sections": []
    },
    "kernelspec": {
      "name": "python3",
      "display_name": "Python 3"
    },
    "accelerator": "GPU"
  },
  "cells": [
    {
      "cell_type": "code",
      "metadata": {
        "id": "qkqQoRdVsbYQ",
        "colab_type": "code",
        "colab": {}
      },
      "source": [
        "from keras.models import Sequential\n",
        "from keras.layers import GRU,Dense,Dropout\n",
        "import numpy as np\n",
        "import pandas as pd\n",
        "from sklearn.model_selection import train_test_split\n",
        "import matplotlib.pyplot as plt\n",
        "from sklearn.preprocessing import MinMaxScaler\n",
        "import keras\n"
      ],
      "execution_count": 0,
      "outputs": []
    },
    {
      "cell_type": "code",
      "metadata": {
        "id": "ALb8t2vdsxID",
        "colab_type": "code",
        "colab": {
          "base_uri": "https://localhost:8080/",
          "height": 136
        },
        "outputId": "188367cb-1d1c-4d11-ea76-2adb9c439c75"
      },
      "source": [
        "data=pd.read_csv(\"market_price_analysis.csv\")\n",
        "print(data.head())\n",
        "data.shape"
      ],
      "execution_count": 176,
      "outputs": [
        {
          "output_type": "stream",
          "text": [
            "         Date    Open    High     Low   Close   Volume  OpenInt\n",
            "0  1962-01-02  0.6277  0.6362  0.6201  0.6201  2575579        0\n",
            "1  1962-01-03  0.6201  0.6201  0.6122  0.6201  1764749        0\n",
            "2  1962-01-04  0.6201  0.6201  0.6037  0.6122  2194010        0\n",
            "3  1962-01-05  0.6122  0.6122  0.5798  0.5957  3255244        0\n",
            "4  1962-01-08  0.5957  0.5957  0.5716  0.5957  3696430        0\n"
          ],
          "name": "stdout"
        },
        {
          "output_type": "execute_result",
          "data": {
            "text/plain": [
              "(14058, 7)"
            ]
          },
          "metadata": {
            "tags": []
          },
          "execution_count": 176
        }
      ]
    },
    {
      "cell_type": "code",
      "metadata": {
        "id": "JeMnfD-xw_G_",
        "colab_type": "code",
        "colab": {
          "base_uri": "https://localhost:8080/",
          "height": 221
        },
        "outputId": "02fbd740-8bc9-410b-bbab-4d325da20482"
      },
      "source": [
        "print(data['OpenInt'].unique())\n",
        "print(data.describe())\n",
        "data=data.drop(['OpenInt','Date'],axis=1)"
      ],
      "execution_count": 177,
      "outputs": [
        {
          "output_type": "stream",
          "text": [
            "[0]\n",
            "               Open          High  ...        Volume  OpenInt\n",
            "count  14058.000000  14058.000000  ...  1.405800e+04  14058.0\n",
            "mean      10.534737     10.642538  ...  2.423066e+07      0.0\n",
            "std       11.742897     11.868891  ...  3.369859e+07      0.0\n",
            "min        0.459020      0.466900  ...  0.000000e+00      0.0\n",
            "25%        0.901500      0.909600  ...  5.496950e+06      0.0\n",
            "50%        3.880900      3.912700  ...  1.597520e+07      0.0\n",
            "75%       21.416000     21.658000  ...  2.853667e+07      0.0\n",
            "max       47.751000     48.459000  ...  9.345354e+08      0.0\n",
            "\n",
            "[8 rows x 6 columns]\n"
          ],
          "name": "stdout"
        }
      ]
    },
    {
      "cell_type": "code",
      "metadata": {
        "id": "NUeoybzN3eci",
        "colab_type": "code",
        "colab": {
          "base_uri": "https://localhost:8080/",
          "height": 34
        },
        "outputId": "88591215-e1b5-43e3-9ac5-8c57ecfa9c1a"
      },
      "source": [
        "####\n",
        "print(data.columns)\n"
      ],
      "execution_count": 178,
      "outputs": [
        {
          "output_type": "stream",
          "text": [
            "Index(['Open', 'High', 'Low', 'Close', 'Volume'], dtype='object')\n"
          ],
          "name": "stdout"
        }
      ]
    },
    {
      "cell_type": "code",
      "metadata": {
        "id": "z4OswEt5A9AA",
        "colab_type": "code",
        "colab": {
          "base_uri": "https://localhost:8080/",
          "height": 221
        },
        "outputId": "711f01e8-1d94-4cd4-ad28-34ca29238a3d"
      },
      "source": [
        "dataY=data.pop('Volume')\n",
        "print(dataY.head())\n",
        "print(data.head())"
      ],
      "execution_count": 179,
      "outputs": [
        {
          "output_type": "stream",
          "text": [
            "0    2575579\n",
            "1    1764749\n",
            "2    2194010\n",
            "3    3255244\n",
            "4    3696430\n",
            "Name: Volume, dtype: int64\n",
            "     Open    High     Low   Close\n",
            "0  0.6277  0.6362  0.6201  0.6201\n",
            "1  0.6201  0.6201  0.6122  0.6201\n",
            "2  0.6201  0.6201  0.6037  0.6122\n",
            "3  0.6122  0.6122  0.5798  0.5957\n",
            "4  0.5957  0.5957  0.5716  0.5957\n"
          ],
          "name": "stdout"
        }
      ]
    },
    {
      "cell_type": "code",
      "metadata": {
        "id": "YiFvPEWaKcvs",
        "colab_type": "code",
        "colab": {
          "base_uri": "https://localhost:8080/",
          "height": 221
        },
        "outputId": "7e837195-04ed-475f-cb22-b62fb0eb541d"
      },
      "source": [
        "dataX=data\n",
        "print(dataX.head())\n",
        "print(dataY.head())"
      ],
      "execution_count": 180,
      "outputs": [
        {
          "output_type": "stream",
          "text": [
            "     Open    High     Low   Close\n",
            "0  0.6277  0.6362  0.6201  0.6201\n",
            "1  0.6201  0.6201  0.6122  0.6201\n",
            "2  0.6201  0.6201  0.6037  0.6122\n",
            "3  0.6122  0.6122  0.5798  0.5957\n",
            "4  0.5957  0.5957  0.5716  0.5957\n",
            "0    2575579\n",
            "1    1764749\n",
            "2    2194010\n",
            "3    3255244\n",
            "4    3696430\n",
            "Name: Volume, dtype: int64\n"
          ],
          "name": "stdout"
        }
      ]
    },
    {
      "cell_type": "code",
      "metadata": {
        "id": "gV3hOLHWbI-b",
        "colab_type": "code",
        "colab": {}
      },
      "source": [
        "#####Scale the columns\n",
        "datay=dataY.values.astype(float).reshape(-1,1)\n",
        "dataY_scaled=MinMaxScaler().fit_transform(datay)\n"
      ],
      "execution_count": 0,
      "outputs": []
    },
    {
      "cell_type": "code",
      "metadata": {
        "id": "rEyervxj2OB5",
        "colab_type": "code",
        "colab": {
          "base_uri": "https://localhost:8080/",
          "height": 119
        },
        "outputId": "b279c985-ad22-4c37-e5de-13b3dde33264"
      },
      "source": [
        "def test_train_split(test_size=0.2):\n",
        "  index=int(len(data) * test_size)\n",
        "  train_x=dataX[0:index]\n",
        "  train_y=dataY_scaled[0:index]\n",
        "  test_x=dataX[index:]\n",
        "  test_y=dataY_scaled[index:]\n",
        "  return train_x,train_y,test_x,test_y\n",
        "\n",
        "  \n",
        "train_x,train_y,test_x,test_y=test_train_split(test_size=0.2)\n",
        "\n",
        "print(train_x.head())"
      ],
      "execution_count": 182,
      "outputs": [
        {
          "output_type": "stream",
          "text": [
            "     Open    High     Low   Close\n",
            "0  0.6277  0.6362  0.6201  0.6201\n",
            "1  0.6201  0.6201  0.6122  0.6201\n",
            "2  0.6201  0.6201  0.6037  0.6122\n",
            "3  0.6122  0.6122  0.5798  0.5957\n",
            "4  0.5957  0.5957  0.5716  0.5957\n"
          ],
          "name": "stdout"
        }
      ]
    },
    {
      "cell_type": "code",
      "metadata": {
        "id": "LpIqAaIyx29d",
        "colab_type": "code",
        "colab": {}
      },
      "source": [
        "trains_x=train_x.values.reshape((-1,1,4))\n"
      ],
      "execution_count": 0,
      "outputs": []
    },
    {
      "cell_type": "code",
      "metadata": {
        "id": "8aX1L4R4uycx",
        "colab_type": "code",
        "colab": {}
      },
      "source": [
        "def build_model():\n",
        "  model = Sequential()\n",
        "  model.add(GRU(units=50,activation='tanh',return_sequences=True,input_shape=(1,4)))\n",
        "  #model.add(Dropout(0.2))\n",
        "  model.add(GRU(units=50))\n",
        "  #model.add(Dropout(0.2))\n",
        "  model.add(Dense(1))\n",
        "  model.compile(loss='mse', optimizer='adam',metrics=['accuracy'])\n",
        "  return model"
      ],
      "execution_count": 0,
      "outputs": []
    },
    {
      "cell_type": "code",
      "metadata": {
        "id": "7l-3g99I1-6Z",
        "colab_type": "code",
        "colab": {}
      },
      "source": [
        "from keras.callbacks import EarlyStopping\n",
        "abc=EarlyStopping(monitor='val_loss',patience=3)\n",
        "\n"
      ],
      "execution_count": 0,
      "outputs": []
    },
    {
      "cell_type": "code",
      "metadata": {
        "id": "abDfWb1rvDrh",
        "colab_type": "code",
        "colab": {
          "base_uri": "https://localhost:8080/",
          "height": 190
        },
        "outputId": "7b513659-b464-4faa-d995-3f7624a56a44"
      },
      "source": [
        "model=build_model()\n",
        "model.fit(trains_x,train_y,validation_split=0.1,epochs=100,batch_size=32,callbacks=[abc])\n",
        "model.save('gru.h5')"
      ],
      "execution_count": 206,
      "outputs": [
        {
          "output_type": "stream",
          "text": [
            "Train on 2529 samples, validate on 282 samples\n",
            "Epoch 1/100\n",
            "2529/2529 [==============================] - 6s 2ms/step - loss: 5.3485e-05 - acc: 0.0000e+00 - val_loss: 2.4679e-06 - val_acc: 0.0000e+00\n",
            "Epoch 2/100\n",
            "2529/2529 [==============================] - 1s 366us/step - loss: 4.5233e-06 - acc: 0.0000e+00 - val_loss: 3.8700e-06 - val_acc: 0.0000e+00\n",
            "Epoch 3/100\n",
            "2529/2529 [==============================] - 1s 379us/step - loss: 4.7408e-06 - acc: 0.0000e+00 - val_loss: 1.2813e-05 - val_acc: 0.0000e+00\n",
            "Epoch 4/100\n",
            "2529/2529 [==============================] - 1s 378us/step - loss: 5.0051e-06 - acc: 0.0000e+00 - val_loss: 3.3377e-06 - val_acc: 0.0000e+00\n"
          ],
          "name": "stdout"
        }
      ]
    },
    {
      "cell_type": "code",
      "metadata": {
        "id": "pKh3SFY1LJhW",
        "colab_type": "code",
        "colab": {}
      },
      "source": [
        "from keras.models import load_model\n",
        "model=load_model('gru.h5')\n",
        "tests_x=test_x.values.reshape((-1,1,4))\n",
        "\n"
      ],
      "execution_count": 0,
      "outputs": []
    },
    {
      "cell_type": "code",
      "metadata": {
        "id": "Bi3gW8YO2Hl2",
        "colab_type": "code",
        "colab": {}
      },
      "source": [
        ""
      ],
      "execution_count": 0,
      "outputs": []
    }
  ]
}