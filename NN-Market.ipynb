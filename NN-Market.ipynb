{
  "nbformat": 4,
  "nbformat_minor": 0,
  "metadata": {
    "colab": {
      "name": "Untitled6.ipynb",
      "provenance": []
    },
    "kernelspec": {
      "name": "python2",
      "display_name": "Python 2"
    }
  },
  "cells": [
    {
      "cell_type": "code",
      "metadata": {
        "id": "-uzctw-6vbdI",
        "colab_type": "code",
        "colab": {}
      },
      "source": [
        "from sklearn.neighbors import NearestNeighbors\n",
        "import pandas as pd\n",
        "import numpy as np\n"
      ],
      "execution_count": 0,
      "outputs": []
    },
    {
      "cell_type": "code",
      "metadata": {
        "id": "RjdWGtH5aVEy",
        "colab_type": "code",
        "colab": {}
      },
      "source": [
        "data=pd.read_csv('coordinates.csv')\n",
        "#data=[[1,2],[1.1,2.2],[1.3,1.4],[1.4,2.1],[1.4,2.4],[1.7,2.4],[1.8,2.9],[1.2,2.5],[1.6,2.1],[1.9,2.5]]\n",
        "current_coordinates=[[0.015,2.004]]\n",
        "#data=np.array(data.values)"
      ],
      "execution_count": 0,
      "outputs": []
    },
    {
      "cell_type": "code",
      "metadata": {
        "id": "zgiyOvqgG4bW",
        "colab_type": "code",
        "colab": {
          "base_uri": "https://localhost:8080/",
          "height": 35
        },
        "outputId": "87db45a2-9142-4778-87d1-038c68b9afcd"
      },
      "source": [
        "data.pop('Unnamed: 0')\n",
        "print(data.columns)\n",
        "vals=data.values\n",
        "\n"
      ],
      "execution_count": 54,
      "outputs": [
        {
          "output_type": "stream",
          "text": [
            "Index([u'0', u'1'], dtype='object')\n"
          ],
          "name": "stdout"
        }
      ]
    },
    {
      "cell_type": "code",
      "metadata": {
        "id": "nEg8w2M1HRWo",
        "colab_type": "code",
        "colab": {}
      },
      "source": [
        "data=vals"
      ],
      "execution_count": 0,
      "outputs": []
    },
    {
      "cell_type": "code",
      "metadata": {
        "id": "mnc578gKyBLY",
        "colab_type": "code",
        "colab": {
          "base_uri": "https://localhost:8080/",
          "height": 54
        },
        "outputId": "399b0b20-408c-45c0-ba9a-4a2dad9954e3"
      },
      "source": [
        "nn=NearestNeighbors(n_neighbors=4,algorithm=\"auto\")\n",
        "nn.fit(data)"
      ],
      "execution_count": 56,
      "outputs": [
        {
          "output_type": "execute_result",
          "data": {
            "text/plain": [
              "NearestNeighbors(algorithm='auto', leaf_size=30, metric='minkowski',\n",
              "         metric_params=None, n_jobs=None, n_neighbors=4, p=2, radius=1.0)"
            ]
          },
          "metadata": {
            "tags": []
          },
          "execution_count": 56
        }
      ]
    },
    {
      "cell_type": "code",
      "metadata": {
        "id": "yQpjEZhXzdiS",
        "colab_type": "code",
        "colab": {
          "base_uri": "https://localhost:8080/",
          "height": 108
        },
        "outputId": "80a8aae4-1df6-4e76-8444-79a39d01af06"
      },
      "source": [
        "\n",
        "top_mandis=nn.kneighbors(current_coordinates,4,return_distance=False)\n",
        "for i in range(len(top_mandis[0])):\n",
        "  print(\"Mandi\"+str(top_mandis[0][i]))\n",
        "\n",
        "print(top_mandis)\n",
        "import cPickle as pkl\n",
        "with open('market.pkl','wb') as f:\n",
        "  pkl.dump(top_mandis,f)\n",
        "\n"
      ],
      "execution_count": 72,
      "outputs": [
        {
          "output_type": "stream",
          "text": [
            "Mandi0\n",
            "Mandi17\n",
            "Mandi18\n",
            "Mandi9\n",
            "[[ 0 17 18  9]]\n"
          ],
          "name": "stdout"
        }
      ]
    },
    {
      "cell_type": "code",
      "metadata": {
        "id": "nojrkd81zhOS",
        "colab_type": "code",
        "colab": {}
      },
      "source": [
        "import random\n",
        "def generate_coordinates(radius=100):\n",
        "  x_add=random.uniform(0,radius)\n",
        "  y_add=random.uniform(0,radius)\n",
        "  return [current_coordinates[0]+ x_add,current_coordinates[1]+y_add]\n",
        "\n",
        "data=[]\n",
        "datalen=20\n",
        "for i in range(datalen):\n",
        "  data.append(generate_coordinates(random.randrange(0,100)))\n",
        "\n",
        "\n",
        "datas=pd.DataFrame(data)\n",
        "datas.to_csv('coordinates.csv')\n"
      ],
      "execution_count": 0,
      "outputs": []
    },
    {
      "cell_type": "code",
      "metadata": {
        "id": "UHgjhPzUEg0O",
        "colab_type": "code",
        "colab": {}
      },
      "source": [
        ""
      ],
      "execution_count": 0,
      "outputs": []
    }
  ]
}